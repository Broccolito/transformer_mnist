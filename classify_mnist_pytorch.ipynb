{
 "cells": [
  {
   "cell_type": "code",
   "execution_count": 5,
   "metadata": {},
   "outputs": [],
   "source": [
    "import torch\n",
    "from torchvision import datasets, transforms\n",
    "from torch.utils.data import DataLoader\n",
    "import torch.nn as nn\n",
    "import torch.nn.functional as F\n",
    "from torch.optim import Adam"
   ]
  },
  {
   "cell_type": "code",
   "execution_count": 7,
   "metadata": {},
   "outputs": [],
   "source": [
    "# Transformations applied on each image\n",
    "transform = transforms.Compose([\n",
    "    transforms.ToTensor(),  # Convert images to tensor format\n",
    "    transforms.Normalize((0.5,), (0.5,))  # Normalize images\n",
    "])\n",
    "\n",
    "# Loading the dataset\n",
    "train_dataset = datasets.MNIST(root='./data', train=True, transform=transform, download=True)\n",
    "test_dataset = datasets.MNIST(root='./data', train=False, transform=transform, download=True)\n",
    "\n",
    "# Data loaders for handling the dataset batching\n",
    "train_loader = DataLoader(train_dataset, batch_size=32, shuffle=True)\n",
    "test_loader = DataLoader(test_dataset, batch_size=32, shuffle=False)"
   ]
  },
  {
   "cell_type": "code",
   "execution_count": 8,
   "metadata": {},
   "outputs": [],
   "source": [
    "class TransformerMNIST(nn.Module):\n",
    "    def __init__(self, input_dim, num_heads, num_classes, dim_feedforward=512, num_layers=3):\n",
    "        super().__init__()\n",
    "        self.embedding = nn.Linear(input_dim, dim_feedforward)\n",
    "        encoder_layer = nn.TransformerEncoderLayer(\n",
    "            d_model=dim_feedforward, \n",
    "            nhead=num_heads,\n",
    "            dim_feedforward=dim_feedforward,\n",
    "            batch_first=True\n",
    "        )\n",
    "        self.transformer_encoder = nn.TransformerEncoder(encoder_layer, num_layers=num_layers)\n",
    "        self.output_layer = nn.Linear(dim_feedforward, num_classes)\n",
    "\n",
    "    def forward(self, x):\n",
    "        x = self.embedding(x)\n",
    "        x = self.transformer_encoder(x)\n",
    "        x = x.mean(dim=1)  # Pool over the sequence\n",
    "        x = self.output_layer(x)\n",
    "        return x\n",
    "\n",
    "# Model initialization\n",
    "model = TransformerMNIST(input_dim=28, num_heads=4, num_classes=10)"
   ]
  },
  {
   "cell_type": "code",
   "execution_count": 9,
   "metadata": {},
   "outputs": [
    {
     "name": "stdout",
     "output_type": "stream",
     "text": [
      "Batch 100/1875, Loss: 1.9712975025177002\n",
      "Batch 200/1875, Loss: 1.871441125869751\n",
      "Batch 300/1875, Loss: 1.9426764249801636\n",
      "Batch 400/1875, Loss: 1.8364906311035156\n",
      "Batch 500/1875, Loss: 2.2779624462127686\n",
      "Batch 600/1875, Loss: 2.2522079944610596\n",
      "Batch 700/1875, Loss: 2.3697690963745117\n",
      "Batch 800/1875, Loss: 2.2546520233154297\n",
      "Batch 900/1875, Loss: 2.3219988346099854\n",
      "Batch 1000/1875, Loss: 2.342280626296997\n",
      "Batch 1100/1875, Loss: 2.394291639328003\n",
      "Batch 1200/1875, Loss: 2.3023767471313477\n",
      "Batch 1300/1875, Loss: 2.1443378925323486\n",
      "Batch 1400/1875, Loss: 2.2141313552856445\n",
      "Batch 1500/1875, Loss: 2.195491313934326\n",
      "Batch 1600/1875, Loss: 2.2670705318450928\n",
      "Batch 1700/1875, Loss: 2.0390360355377197\n",
      "Batch 1800/1875, Loss: 1.9013569355010986\n",
      "Training Loss: 2.1675297175725303\n",
      "Test Accuracy: 20.04%\n"
     ]
    }
   ],
   "source": [
    "device = torch.device(\"cuda\" if torch.cuda.is_available() else \"cpu\")\n",
    "model.to(device)\n",
    "optimizer = Adam(model.parameters(), lr=0.001)\n",
    "criterion = nn.CrossEntropyLoss()\n",
    "\n",
    "# Training loop with status updates\n",
    "def train_model(model, train_loader):\n",
    "    model.train()\n",
    "    total_loss = 0\n",
    "    for batch_idx, (data, target) in enumerate(train_loader):\n",
    "        data, target = data.to(device), target.to(device)\n",
    "        data = data.view(data.size(0), 28, 28)  # Reshape data\n",
    "\n",
    "        optimizer.zero_grad()\n",
    "        output = model(data)\n",
    "        loss = criterion(output, target)\n",
    "        loss.backward()\n",
    "        optimizer.step()\n",
    "        \n",
    "        total_loss += loss.item()\n",
    "        \n",
    "        # Status update\n",
    "        if (batch_idx + 1) % 100 == 0:  # Update every 100 batches\n",
    "            print(f'Batch {batch_idx+1}/{len(train_loader)}, Loss: {loss.item()}')\n",
    "\n",
    "    print(f'Training Loss: {total_loss / len(train_loader)}')\n",
    "\n",
    "# Test the model with status updates\n",
    "def test_model(model, test_loader):\n",
    "    model.eval()\n",
    "    correct = 0\n",
    "    with torch.no_grad():\n",
    "        for data, target in test_loader:\n",
    "            data, target = data.to(device), target.to(device)\n",
    "            data = data.view(data.size(0), 28, 28)  # Reshape data\n",
    "            output = model(data)\n",
    "            pred = output.argmax(dim=1, keepdim=True)\n",
    "            correct += pred.eq(target.view_as(pred)).sum().item()\n",
    "\n",
    "    print(f'Test Accuracy: {100. * correct / len(test_loader.dataset)}%')\n",
    "\n",
    "# Run the training and testing\n",
    "train_model(model, train_loader)\n",
    "test_model(model, test_loader)\n"
   ]
  }
 ],
 "metadata": {
  "kernelspec": {
   "display_name": "torch",
   "language": "python",
   "name": "python3"
  },
  "language_info": {
   "codemirror_mode": {
    "name": "ipython",
    "version": 3
   },
   "file_extension": ".py",
   "mimetype": "text/x-python",
   "name": "python",
   "nbconvert_exporter": "python",
   "pygments_lexer": "ipython3",
   "version": "3.8.19"
  }
 },
 "nbformat": 4,
 "nbformat_minor": 2
}
